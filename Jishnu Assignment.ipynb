{
  "metadata": {
    "language_info": {
      "codemirror_mode": {
        "name": "python",
        "version": 3
      },
      "file_extension": ".py",
      "mimetype": "text/x-python",
      "name": "python",
      "nbconvert_exporter": "python",
      "pygments_lexer": "ipython3",
      "version": "3.8"
    },
    "kernelspec": {
      "name": "python",
      "display_name": "Pyolite",
      "language": "python"
    }
  },
  "nbformat_minor": 4,
  "nbformat": 4,
  "cells": [
    {
      "cell_type": "markdown",
      "source": "# My Jupyter Notebook on IBM Watson Studio",
      "metadata": {}
    },
    {
      "cell_type": "markdown",
      "source": "**Jishnu G**\n\nSupply Chain Manager",
      "metadata": {}
    },
    {
      "cell_type": "markdown",
      "source": "*I am interested in Data Science because I need to upgrade and explore new skills*",
      "metadata": {}
    },
    {
      "cell_type": "markdown",
      "source": "### Program to adds two numbers",
      "metadata": {}
    },
    {
      "cell_type": "code",
      "source": "Number_1 = 7.3\nNumber_2 = 5.7\n\nsum = Number_1 + Number_2\n\nprint('The sum of {0} and {1} is {2}'.format(Number_1, Number_2, sum))",
      "metadata": {
        "trusted": true
      },
      "execution_count": 5,
      "outputs": [
        {
          "name": "stdout",
          "text": "The sum of 7.3 and 5.7 is 13.0\n",
          "output_type": "stream"
        }
      ]
    },
    {
      "cell_type": "markdown",
      "source": "\n---\n\n <a href=\"https://dataplatform.cloud.ibm.com/gallery\">IBM Cloud Gallery</a> \n \n \n Markdown | Less | Pretty\n--- | --- | ---\n*Still* | `renders` | **nicely**\n1 | 2 | 3\n\n\n\nStrikethrough Example :  ~~Strikethrough~~\n\n\n> Blockquotes Example",
      "metadata": {}
    }
  ]
}